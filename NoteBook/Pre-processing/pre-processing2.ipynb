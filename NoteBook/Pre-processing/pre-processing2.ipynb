{
 "cells": [
  {
   "attachments": {},
   "cell_type": "markdown",
   "metadata": {},
   "source": [
    "# Pre-processing and cleaning data: Predicting House Prices using Machine Learning"
   ]
  },
  {
   "attachments": {},
   "cell_type": "markdown",
   "metadata": {},
   "source": [
    "## A Case Study of Saudi Arabia"
   ]
  },
  {
   "attachments": {},
   "cell_type": "markdown",
   "metadata": {},
   "source": [
    "### 1. Importing the Libraries"
   ]
  },
  {
   "cell_type": "code",
   "execution_count": 2,
   "metadata": {},
   "outputs": [],
   "source": [
    "# for data edit\n",
    "import numpy as np\n",
    "import pandas as pd\n",
    "import math\n",
    "\n",
    "# Libraries for drow chart\n",
    "import matplotlib.pyplot as plt\n",
    "import seaborn as sns\n",
    "import plotly.express as px\n",
    "import missingno as msno\n",
    "\n",
    "# for missing data\n",
    "from sklearn.ensemble import RandomForestRegressor\n",
    "from sklearn.experimental import enable_iterative_imputer\n",
    "from sklearn.impute import IterativeImputer\n",
    "\n",
    "# for encode the data \n",
    "from sklearn.preprocessing import LabelEncoder"
   ]
  },
  {
   "attachments": {},
   "cell_type": "markdown",
   "metadata": {},
   "source": [
    "### 2. Load the dataset"
   ]
  },
  {
   "cell_type": "code",
   "execution_count": 3,
   "metadata": {},
   "outputs": [],
   "source": [
    "AQAR_Data = pd.read_csv(r\"../../DataSet/aqarItemsData19971.csv\")\n",
    "df = AQAR_Data.copy()"
   ]
  },
  {
   "attachments": {},
   "cell_type": "markdown",
   "metadata": {},
   "source": [
    "###  3. Drop Features\n",
    "\n",
    "We have some faetures that we want to drop because they do not add any value to the project like:\n",
    "- title\n",
    "- description\n",
    "- ad_number\n",
    "- last_update\n",
    "- views"
   ]
  },
  {
   "cell_type": "code",
   "execution_count": 4,
   "metadata": {},
   "outputs": [],
   "source": [
    "df.drop(columns=['title','description','ad_number','last_update','views'], axis=1, inplace = True)"
   ]
  },
  {
   "attachments": {},
   "cell_type": "markdown",
   "metadata": {},
   "source": [
    "## 4. Fix data "
   ]
  },
  {
   "attachments": {},
   "cell_type": "markdown",
   "metadata": {},
   "source": [
    "### 4.1 fix the `front` feature"
   ]
  },
  {
   "cell_type": "code",
   "execution_count": 5,
   "metadata": {},
   "outputs": [
    {
     "data": {
      "text/plain": [
       "array(['North-West', 'South', 'ُEast', 'South-West', 'West', 'North',\n",
       "       'South-East', 'North-East', 'Three-Streets', 'Four-Streets', nan],\n",
       "      dtype=object)"
      ]
     },
     "execution_count": 5,
     "metadata": {},
     "output_type": "execute_result"
    }
   ],
   "source": [
    "df.loc[df['front'] == 'شمالية', 'front'] = 'North'\n",
    "df.loc[df['front'] == 'جنوبية', 'front'] = 'South'\n",
    "df.loc[df['front'] == 'غربية', 'front'] = 'West'\n",
    "df.loc[df['front'] == 'شرقية', 'front'] = 'ُEast'\n",
    "df.loc[df['front'] == 'شمالية شرقية', 'front'] = 'North-East'\n",
    "df.loc[df['front'] == 'شمالية غربية', 'front'] = 'North-West'\n",
    "df.loc[df['front'] == 'جنوبية شرقية', 'front'] = 'South-East'\n",
    "df.loc[df['front'] == 'جنوبية غربية', 'front'] = 'South-West'\n",
    "df.loc[df['front'] == 'ثلاث شوارع', 'front'] = 'Three-Streets'\n",
    "df.loc[df['front'] == 'أربع شوارع', 'front'] = 'Four-Streets'\n",
    "df['front'].unique()"
   ]
  },
  {
   "attachments": {},
   "cell_type": "markdown",
   "metadata": {},
   "source": [
    "### 4.2 fix the `area` feature"
   ]
  },
  {
   "cell_type": "code",
   "execution_count": 6,
   "metadata": {},
   "outputs": [
    {
     "data": {
      "text/plain": [
       "array([ 103,  144,  340,  182,  197,  112,  297,  179,  131,  230,  252,\n",
       "        472,  194,  175,  100,  166,  135,  180,  280,  105,  200,   97,\n",
       "        128,  140,  161,  190,  185,  130,  164,  173,  220,  170,  139,\n",
       "        215,  232,  120,  118,  210,  138,  129,   98,  177,  235,  160,\n",
       "        186,  163,  300,  147,  221,  400,  142,  266,  370,  188,  145,\n",
       "        218,  125,  273,  165,  150,  134,  110,  650,  315,  151,  250,\n",
       "        245,  121,  146,  260,  176,  263,  171,  183,  155,  265,  189,\n",
       "        225,  240,  109,  251,  159,  133,  270,  132,  202,  174,  330,\n",
       "        122,  213,  238,  275,  115,  169,  700,  600,  167,  192,  196,\n",
       "        127,  119,  219,  195,  191,  216,  141,  172,  325,  207,   20,\n",
       "        148,  113,  227,  223,  153,  241,  310,  162,  136,  312,  158,\n",
       "        258,   96,   88,  152,   81,  168,  198,  247,  209,  205,  203,\n",
       "        303,  156,  262,  224,  305,  212,  107,  350,   93,  281,  217,\n",
       "        450,  178,  380,  289,  199,  114,  204,  104,  106,  126,  233,\n",
       "        246,   61,  154,  211,  231,  208,  272,  111,  143,  339,   94,\n",
       "         35,  123,  149,  378,  193,  267,  187,  236,  137,  320,  316,\n",
       "        255,   80,  117,  244,  116,  365,  214,  201,  256,  248,  157,\n",
       "        326,  242,  226,  229, 1000,  264,  276,  500,  285,  295,  124,\n",
       "        102,  290,  184,  108,  234,  420,  327,  253,  206,  523,  274,\n",
       "        259,  288,   92,  222,  800,  550,  257,  317,  360,  243,  279,\n",
       "         45,  313,  254,  283,  358,  228,   95,  385,   90,  302,   62,\n",
       "         85,  640,  345,  294,  237,  377,  269,  282,   74,   82,   76,\n",
       "        278,   46,  181,   59,  390,  750,  239,  406,  900,   22,  495,\n",
       "        560,   54,  630,   73,   38,  399,  526,  101,  277,  291,  775,\n",
       "         89,  371,  520,  375,   79,  307,  532,  261,  570,  249,  301,\n",
       "        293,  332,   84,  670,   86,  308,   39,   40,  306,  428,  591,\n",
       "        485,  486,   50,   75,  649,  475,  271,  299,  391,  474,   70,\n",
       "        575,  268,  284,  425,  437,  430,  311,  321,  318,  529,   60,\n",
       "         37,  660,  740,   87,  314,  337,  656,  352,  459,  395,   30,\n",
       "        460,   41,   99,  296,    0,  572,  361,  287,   42,  440,  504,\n",
       "         69,   24,  409,  335,  331,  490,  441,  436,  323,  338,  445,\n",
       "        324,  343,  625,  616,   72,  344,  298,   55,   25,  292,  666,\n",
       "        356,   91,  597,  408,  960,  364,   83,  353])"
      ]
     },
     "execution_count": 6,
     "metadata": {},
     "output_type": "execute_result"
    }
   ],
   "source": [
    "df['area'] = df['area'].str.split().str[0]\n",
    "df['area'] = df['area'].str.replace(',','')\n",
    "df['area'] = df['area'].str.replace('م²','0')\n",
    "df['area'] = df['area'].astype('int')\n",
    "df['area'].unique()"
   ]
  },
  {
   "attachments": {},
   "cell_type": "markdown",
   "metadata": {},
   "source": [
    "### 4.3 fix the `price` feature"
   ]
  },
  {
   "cell_type": "code",
   "execution_count": 7,
   "metadata": {},
   "outputs": [
    {
     "data": {
      "text/plain": [
       "array([  420000,   610000,   960000,   500000,   580000,   335000,\n",
       "         950000,   680000,   900000,   780000,   850000,  5150000,\n",
       "         720000,   490000,   360000,   520000,  1020000,  1100000,\n",
       "         690000,   745000,   499000,   600000,   990000,   751000,\n",
       "         290000,   550000,   530000,   440000,   450000,   979000,\n",
       "         800000,   750000,   560000,  1145000,    50000,   670000,\n",
       "         620000,   350000,   909000,   319000,   700000,   540000,\n",
       "         545000,   740000,  1450000,   980000,   470000,   570000,\n",
       "         770000,   930000,  1000000,   485000,  8300000,   400000,\n",
       "         820000,   430000,  1250000,   410000,   959000,   460000,\n",
       "         640000,   825000,   940000,  1189000,   650000,   730000,\n",
       "         535000,   480000,   465000,  9019000,   445000,   615000,\n",
       "         590000,   675000,   475000,   899000,   710000,   619000,\n",
       "         760000,   830000,  1400000,   795000,  3800000,   749000,\n",
       "         951000,   459000,   890000,   660000,   320000,   790000,\n",
       "        1330002,   870000,   591000,   840000,   999000,  1092000,\n",
       "         920000,   399000,   970000,  1500000,   310000,   340000,\n",
       "        1200000,   390000,   435000,   575000,   469000,  1800000,\n",
       "         585000,   395000,   330000,   860000,   755000,   380000,\n",
       "         880000,  1089000,  1220000,  1350000,   370000,   630000,\n",
       "        1030000,  1247000,   659000,  1119300,   510000,   300000,\n",
       "        1300000,   375000,   439000,  1139000,  1360000,  1780000,\n",
       "        2000000,  1150000,   569000,  1449000,   605000,   495000,\n",
       "         839000,   595000,  1270000,  1140000,   327000,  1750000,\n",
       "        1120000,   365000,  1050000,   525000,   779000,  1340000,\n",
       "         299000,  1375000,  1035000,   429000,   869000,   250000,\n",
       "         625000,  1055000,  1060000,  1180000,  1014000,  1289000,\n",
       "         985000,  1225000,   911000,  1070000,   538000,   449000,\n",
       "         685000,   645000,   735000,   425000,  1015000,  1029000,\n",
       "         699000,   240000,   900080,   890110,   975000,   715000,\n",
       "         799000,   572000,  1900000,   513000,   385000,   210000,\n",
       "         815000,   875000,   165000,   505000,   500010,  1258000,\n",
       "         845000,  1039000,   797000,  1165000,   665000,  1490000,\n",
       "         230000,   925000,   686000,   769000,   865000,   939000,\n",
       "        1330000,  1190000,   609000,   555000,  4300000,   810000,\n",
       "          65000,   279000,   200000,  1339000,   275000,  5000000,\n",
       "        1249000,   664000,  2100000,   265000,   100000,   500950,\n",
       "         478000,   280000,  2600000,  1280000,   802425,   720006,\n",
       "        1650000,  1690000,   695000,   455000,  1170000,  4750000,\n",
       "         910000,  1700000,   775000,  2300000,   725000,   887000,\n",
       "         497000,   427000,   635000,  3000000,   405000,   655000,\n",
       "         270000,   515000,   598000,   565000,  1430000,   415000,\n",
       "        1890000,   626000,  1580000,  1169000,   849000,  1217000,\n",
       "        8000000,   984000,   955000,  1850000,   918000,   599000,\n",
       "         705000,   929000,   835000,   729000,   829000,   935000,\n",
       "        1600000,   905000,  1299000,   897000,  1199000,  1237000,\n",
       "         899999,  1369000,  1310000,  6000000,   915000,  1295000,\n",
       "        1275000,  1135000,  1699000,   149000,  1080000,  1045000,\n",
       "         479000,  1385000,   765000,   720154,   627000,  8500000,\n",
       "         719000,   720586,   456000,   785000,  1198000,  9000000,\n",
       "        1065000,  2500000,   854000,  1025222,   895000,   455555,\n",
       "         220000,   409000,   720052,  1510000,   945000,  1069000,\n",
       "        1530000,  1219000, 10000000,  1259000,  1090000,   844000,\n",
       "         325000,  8620000,  1130000,   965000,  1477931,   666000,\n",
       "         842000,   576660,  1755000,  4000000,   150000,  1495000,\n",
       "        1290000,   444000,  7000000,  1550000,   533950,  1287000,\n",
       "         767000,   874000,   994500,  1296000,   895800,  1222000,\n",
       "         911430,  1005000,  1317000,   923000,   994250,  1012000,\n",
       "         956000,   874120,   898000,  1105000,  1119000,  1175000,\n",
       "         900770,   309000,   885000,   969000,  1012700,  1379000,\n",
       "         889000,  1049000,  1455000,  1098112,   739000,   419000,\n",
       "         549000,   269000,   989000,   898960,   446000,   199000,\n",
       "         489000,  1255000,  1254000,  1599000,   919000,   853000,\n",
       "         669000,   738000,  2550000,   855000,  5950000,  4500000,\n",
       "         811000,   979800,   998000,   995000,   853415,   992000,\n",
       "         958000,   632000,  1010000,  4600000,  8000060,  1285000,\n",
       "         879000,  1230000,  1160000,   912000,  1390000,   649000,\n",
       "        1000050,  1630000,  1054500,   153000,  1015500,  1013000,\n",
       "        1019000,  3600000,  6500000,  2400000,   819000,  1429000,\n",
       "        2800000,  6000700,   260000,  1380000,  2900000,  1099000,\n",
       "        1480000,  1395000,  2388500,   768000,   809000,   289000,\n",
       "         731000,   949000,   891000,    72000,   589000,   295000,\n",
       "         851000,   536000,  1980000,   293000,   629000,  1110000,\n",
       "        3200000,   703000,  1260000,   581000,  4800000,  2299000,\n",
       "        3500000,  3550000,   355000,  1025000,   937000,  1149000,\n",
       "        5020000,   656000,   757000,   582000,   379000,  1460000,\n",
       "         533000,   611000,  4290000,   688000,   345000,   638000,\n",
       "        1240000,   687000,   593000,   587000,   740008,   750002,\n",
       "         708000,  1399000,   714000,  7500000,  4890000,   315000,\n",
       "         652000,    74000,   822000,   596000,   646000,  1950000,\n",
       "        4950000,   654000,   471000,   612000,   541000,   683000,\n",
       "         592000,  3250000,   878000,   313553,  4850000,  3350000,\n",
       "         657000,  1595000,   718521,   424091,   255000,   651000,\n",
       "         639000,   780008,  1059000,  2700000,  1205000,   978500,\n",
       "        1236000,      590,  1114000,   602000,   329000,  1372000,\n",
       "        1129000,   843000,  1316000,  1349999,   433000,   474000,\n",
       "         689000,   900050,  1173000,  1144000,   369000,   852000,\n",
       "         170000, 13000000,  2200000,   509000,  1239000,  1000500,\n",
       "            700,      430,   494000,  1075000,      460,   486000,\n",
       "        1075269,  9070000,  1115000,   814000,   848000,   285000,\n",
       "            440,      620,  1489000,      450,   523000,   504400,\n",
       "        8490000,  1499000,  1549000,   859000,  1204000,  1619000,\n",
       "        2850000,   451000,  4200000,   399999,   566000])"
      ]
     },
     "execution_count": 7,
     "metadata": {},
     "output_type": "execute_result"
    }
   ],
   "source": [
    "df['price'].fillna(value = np.nan, inplace = True)\n",
    "df['price'] = df['price'].str.replace('ريال', '')\n",
    "df['price'] = df['price'].str.replace('شهري', '')\n",
    "df['price'] = df['price'].str.replace('سنوي', '')\n",
    "df['price'] = df['price'].str.replace('/', '')\n",
    "df['price'] = df['price'].str.replace(',', '')\n",
    "df['price'] = df['price'].str.strip()\n",
    "df = df[df['price'].notna()]\n",
    "df['price'] = df['price'].astype('int')\n",
    "df['price'].unique()"
   ]
  },
  {
   "attachments": {},
   "cell_type": "markdown",
   "metadata": {},
   "source": [
    "### 4.4 fix the `bath_rooms` feature"
   ]
  },
  {
   "cell_type": "code",
   "execution_count": 8,
   "metadata": {},
   "outputs": [
    {
     "data": {
      "text/plain": [
       "array([3, 2, 5, 4, 1])"
      ]
     },
     "execution_count": 8,
     "metadata": {},
     "output_type": "execute_result"
    }
   ],
   "source": [
    "df.loc[df['bath_rooms']  == '5+', 'bath_rooms'] = '5'\n",
    "df['bath_rooms'] = df['bath_rooms'].astype('int')\n",
    "df['bath_rooms'].unique()"
   ]
  },
  {
   "attachments": {},
   "cell_type": "markdown",
   "metadata": {},
   "source": [
    "### 4.5 fix the `level` feature"
   ]
  },
  {
   "cell_type": "code",
   "execution_count": 9,
   "metadata": {},
   "outputs": [
    {
     "data": {
      "text/plain": [
       "array(['4', '1', '2', nan, '16', '3', '5', '6', '7', '13', '20', '11',\n",
       "       '8', '18', '17', '12', '9', '14', '10', '19'], dtype=object)"
      ]
     },
     "execution_count": 9,
     "metadata": {},
     "output_type": "execute_result"
    }
   ],
   "source": [
    "df.loc[df['level'] == '20+', 'level'] = '20'\n",
    "df.loc[df['level'] == 'أول', 'level'] = '2'\n",
    "df.loc[df['level'] == 'أرضي', 'level'] = '1'\n",
    "df['level'].unique()"
   ]
  },
  {
   "attachments": {},
   "cell_type": "markdown",
   "metadata": {},
   "source": [
    "### 4.6 fix the `age` feature"
   ]
  },
  {
   "cell_type": "code",
   "execution_count": 10,
   "metadata": {},
   "outputs": [
    {
     "data": {
      "text/plain": [
       "array(['8', '0', '1', nan, '9', '7', '12', '15', '11', '2', '10', '6',\n",
       "       '14', '5', '3', '4', '25', '30', '17', '16', '13', '33', '18',\n",
       "       '20', '29', '35', '28', '32', '19'], dtype=object)"
      ]
     },
     "execution_count": 10,
     "metadata": {},
     "output_type": "execute_result"
    }
   ],
   "source": [
    "df.loc[df['age'] == 'جديد', 'age'] = '0'\n",
    "df.loc[df['age'] == '35+', 'age'] = '35'\n",
    "df['age'].unique()"
   ]
  },
  {
   "attachments": {},
   "cell_type": "markdown",
   "metadata": {},
   "source": [
    "### 4.7 fix the `rooms` feature"
   ]
  },
  {
   "cell_type": "code",
   "execution_count": 11,
   "metadata": {},
   "outputs": [
    {
     "data": {
      "text/plain": [
       "array([4, 3, 2, 5, 6, 7, 1])"
      ]
     },
     "execution_count": 11,
     "metadata": {},
     "output_type": "execute_result"
    }
   ],
   "source": [
    "df.loc[df['rooms']  == '7+', 'rooms'] = '7'\n",
    "df['rooms'] = df['rooms'].astype('int')\n",
    "df['rooms'].unique()"
   ]
  },
  {
   "attachments": {},
   "cell_type": "markdown",
   "metadata": {},
   "source": [
    "### 4.8 fix the `street_width` feature"
   ]
  },
  {
   "cell_type": "code",
   "execution_count": 12,
   "metadata": {},
   "outputs": [
    {
     "data": {
      "text/plain": [
       "array([ 15,   5,  20,  40,  30, 100,  24,  32,  16,  36,   0,  50,  18,\n",
       "        25,  21,  23,  33,  12,  35,  26,  22,  52,  10,  19,  57,  34,\n",
       "        11,  29,  17,  31,  13,   9,  28,  45,  37,  14,  27,  39,  60,\n",
       "        41,  38,  86,  70,  71,   7,  62,  56,   1,  67,   6,  44,  80,\n",
       "        82,   4,  87,  81,   8,  65,  58,  51,  61,  53,  55,  54,  59,\n",
       "        63,  64,  89,  74,  43,  42,  96,  76,  72,  84,  73,  88,   3,\n",
       "        69,  66,  90,  98])"
      ]
     },
     "execution_count": 12,
     "metadata": {},
     "output_type": "execute_result"
    }
   ],
   "source": [
    "df['street_width'] = df['street_width'].str.replace('م', '')\n",
    "df[['street_width']] = df[['street_width']].fillna('0')\n",
    "df['street_width'] = df['street_width'].astype('int')\n",
    "df['street_width'].unique()"
   ]
  },
  {
   "attachments": {},
   "cell_type": "markdown",
   "metadata": {},
   "source": [
    "### 4.9 fix the `kitchen` feature"
   ]
  },
  {
   "cell_type": "code",
   "execution_count": 13,
   "metadata": {},
   "outputs": [
    {
     "data": {
      "text/plain": [
       "array([1, 0])"
      ]
     },
     "execution_count": 13,
     "metadata": {},
     "output_type": "execute_result"
    }
   ],
   "source": [
    "df['kitchen'].fillna(value = 0, inplace = True)\n",
    "df['kitchen'] = df['kitchen'].astype('int')\n",
    "df['kitchen'].unique()"
   ]
  },
  {
   "attachments": {},
   "cell_type": "markdown",
   "metadata": {},
   "source": [
    "### 4.10 fix the `garage` feature"
   ]
  },
  {
   "cell_type": "code",
   "execution_count": 14,
   "metadata": {},
   "outputs": [
    {
     "data": {
      "text/plain": [
       "array([1, 0])"
      ]
     },
     "execution_count": 14,
     "metadata": {},
     "output_type": "execute_result"
    }
   ],
   "source": [
    "df['garage'].fillna(value = 0, inplace = True)\n",
    "df['garage'] = df['garage'].astype('int')\n",
    "df['garage'].unique()"
   ]
  },
  {
   "attachments": {},
   "cell_type": "markdown",
   "metadata": {},
   "source": [
    "### 4.11 fix the `elevator` feature"
   ]
  },
  {
   "cell_type": "code",
   "execution_count": 15,
   "metadata": {},
   "outputs": [
    {
     "data": {
      "text/plain": [
       "array([1, 0])"
      ]
     },
     "execution_count": 15,
     "metadata": {},
     "output_type": "execute_result"
    }
   ],
   "source": [
    "df['elevator'].fillna(value = 0, inplace = True)\n",
    "df['elevator'] = df['elevator'].astype('int')\n",
    "df['elevator'].unique()"
   ]
  },
  {
   "attachments": {},
   "cell_type": "markdown",
   "metadata": {},
   "source": [
    "### 4.12 fix the `dimensions` feature"
   ]
  },
  {
   "cell_type": "code",
   "execution_count": 16,
   "metadata": {},
   "outputs": [
    {
     "data": {
      "text/html": [
       "<div>\n",
       "<style scoped>\n",
       "    .dataframe tbody tr th:only-of-type {\n",
       "        vertical-align: middle;\n",
       "    }\n",
       "\n",
       "    .dataframe tbody tr th {\n",
       "        vertical-align: top;\n",
       "    }\n",
       "\n",
       "    .dataframe thead th {\n",
       "        text-align: right;\n",
       "    }\n",
       "</style>\n",
       "<table border=\"1\" class=\"dataframe\">\n",
       "  <thead>\n",
       "    <tr style=\"text-align: right;\">\n",
       "      <th></th>\n",
       "      <th>id</th>\n",
       "      <th>city</th>\n",
       "      <th>district</th>\n",
       "      <th>front</th>\n",
       "      <th>rooms</th>\n",
       "      <th>living_rooms</th>\n",
       "      <th>bath_rooms</th>\n",
       "      <th>street_width</th>\n",
       "      <th>level</th>\n",
       "      <th>age</th>\n",
       "      <th>kitchen</th>\n",
       "      <th>garage</th>\n",
       "      <th>elevator</th>\n",
       "      <th>area</th>\n",
       "      <th>dimension_1</th>\n",
       "      <th>dimension_2</th>\n",
       "      <th>price</th>\n",
       "    </tr>\n",
       "  </thead>\n",
       "  <tbody>\n",
       "    <tr>\n",
       "      <th>0</th>\n",
       "      <td>0</td>\n",
       "      <td>جدة</td>\n",
       "      <td>حي الروابي</td>\n",
       "      <td>North-West</td>\n",
       "      <td>4</td>\n",
       "      <td>NaN</td>\n",
       "      <td>3</td>\n",
       "      <td>15</td>\n",
       "      <td>4</td>\n",
       "      <td>8</td>\n",
       "      <td>1</td>\n",
       "      <td>1</td>\n",
       "      <td>1</td>\n",
       "      <td>103</td>\n",
       "      <td>10.148892</td>\n",
       "      <td>10.148892</td>\n",
       "      <td>420000</td>\n",
       "    </tr>\n",
       "    <tr>\n",
       "      <th>1</th>\n",
       "      <td>1</td>\n",
       "      <td>الدمام</td>\n",
       "      <td>حي الفردوس</td>\n",
       "      <td>South</td>\n",
       "      <td>3</td>\n",
       "      <td>2.0</td>\n",
       "      <td>3</td>\n",
       "      <td>5</td>\n",
       "      <td>1</td>\n",
       "      <td>0</td>\n",
       "      <td>1</td>\n",
       "      <td>1</td>\n",
       "      <td>1</td>\n",
       "      <td>144</td>\n",
       "      <td>12.000000</td>\n",
       "      <td>12.000000</td>\n",
       "      <td>610000</td>\n",
       "    </tr>\n",
       "    <tr>\n",
       "      <th>2</th>\n",
       "      <td>2</td>\n",
       "      <td>ابها</td>\n",
       "      <td>حي القريقر</td>\n",
       "      <td>ُEast</td>\n",
       "      <td>2</td>\n",
       "      <td>1.0</td>\n",
       "      <td>2</td>\n",
       "      <td>20</td>\n",
       "      <td>2</td>\n",
       "      <td>0</td>\n",
       "      <td>1</td>\n",
       "      <td>0</td>\n",
       "      <td>1</td>\n",
       "      <td>340</td>\n",
       "      <td>18.439089</td>\n",
       "      <td>18.439089</td>\n",
       "      <td>960000</td>\n",
       "    </tr>\n",
       "    <tr>\n",
       "      <th>3</th>\n",
       "      <td>3</td>\n",
       "      <td>الدمام</td>\n",
       "      <td>حي النور</td>\n",
       "      <td>South-West</td>\n",
       "      <td>5</td>\n",
       "      <td>1.0</td>\n",
       "      <td>3</td>\n",
       "      <td>40</td>\n",
       "      <td>NaN</td>\n",
       "      <td>0</td>\n",
       "      <td>0</td>\n",
       "      <td>1</td>\n",
       "      <td>1</td>\n",
       "      <td>182</td>\n",
       "      <td>13.490738</td>\n",
       "      <td>13.490738</td>\n",
       "      <td>500000</td>\n",
       "    </tr>\n",
       "    <tr>\n",
       "      <th>4</th>\n",
       "      <td>4</td>\n",
       "      <td>الدمام</td>\n",
       "      <td>حي النور</td>\n",
       "      <td>North-West</td>\n",
       "      <td>5</td>\n",
       "      <td>1.0</td>\n",
       "      <td>3</td>\n",
       "      <td>30</td>\n",
       "      <td>1</td>\n",
       "      <td>0</td>\n",
       "      <td>1</td>\n",
       "      <td>0</td>\n",
       "      <td>0</td>\n",
       "      <td>197</td>\n",
       "      <td>14.035669</td>\n",
       "      <td>14.035669</td>\n",
       "      <td>580000</td>\n",
       "    </tr>\n",
       "  </tbody>\n",
       "</table>\n",
       "</div>"
      ],
      "text/plain": [
       "   id    city    district       front  rooms  living_rooms  bath_rooms  \\\n",
       "0   0     جدة  حي الروابي  North-West      4           NaN           3   \n",
       "1   1  الدمام  حي الفردوس       South      3           2.0           3   \n",
       "2   2    ابها  حي القريقر       ُEast      2           1.0           2   \n",
       "3   3  الدمام    حي النور  South-West      5           1.0           3   \n",
       "4   4  الدمام    حي النور  North-West      5           1.0           3   \n",
       "\n",
       "   street_width level age  kitchen  garage  elevator  area  dimension_1  \\\n",
       "0            15     4   8        1       1         1   103    10.148892   \n",
       "1             5     1   0        1       1         1   144    12.000000   \n",
       "2            20     2   0        1       0         1   340    18.439089   \n",
       "3            40   NaN   0        0       1         1   182    13.490738   \n",
       "4            30     1   0        1       0         0   197    14.035669   \n",
       "\n",
       "   dimension_2   price  \n",
       "0    10.148892  420000  \n",
       "1    12.000000  610000  \n",
       "2    18.439089  960000  \n",
       "3    13.490738  500000  \n",
       "4    14.035669  580000  "
      ]
     },
     "execution_count": 16,
     "metadata": {},
     "output_type": "execute_result"
    }
   ],
   "source": [
    "df['dimension_1'] = df['area'].apply(np.sqrt)\n",
    "df['dimension_2'] = df['area'].apply(np.sqrt)\n",
    "new_cols = ['id', 'city', 'district', 'front', 'rooms', 'living_rooms','bath_rooms', 'street_width', 'level', 'age', 'kitchen', 'garage','elevator', 'area', 'dimension_1', 'dimension_2', 'price']\n",
    "df = df[new_cols]\n",
    "df.head()"
   ]
  },
  {
   "attachments": {},
   "cell_type": "markdown",
   "metadata": {},
   "source": [
    "### 5. Fix missing data \n",
    "\n",
    "We have some missing data and we want to fix it.\n",
    "\n",
    "First, we will separate the data frame into two parts `numerical` and `categorical`. Then we use `IterativeImputer` to estimat the missing Values. And merge the `categorical` and `numerical` after estimation into the data frame\n"
   ]
  },
  {
   "cell_type": "code",
   "execution_count": 17,
   "metadata": {},
   "outputs": [
    {
     "data": {
      "text/plain": [
       "<AxesSubplot: >"
      ]
     },
     "execution_count": 17,
     "metadata": {},
     "output_type": "execute_result"
    },
    {
     "data": {
      "image/png": "[encoded data removed]",
      "text/plain": [
       "<Figure size 2500x1000 with 2 Axes>"
      ]
     },
     "metadata": {},
     "output_type": "display_data"
    }
   ],
   "source": [
    "msno.matrix(df)"
   ]
  },
  {
   "attachments": {},
   "cell_type": "markdown",
   "metadata": {},
   "source": [
    "### 5.1 Separate the data frame into two parts `numerical` and `categorical`"
   ]
  },
  {
   "cell_type": "code",
   "execution_count": 18,
   "metadata": {},
   "outputs": [
    {
     "data": {
      "text/html": [
       "<div>\n",
       "<style scoped>\n",
       "    .dataframe tbody tr th:only-of-type {\n",
       "        vertical-align: middle;\n",
       "    }\n",
       "\n",
       "    .dataframe tbody tr th {\n",
       "        vertical-align: top;\n",
       "    }\n",
       "\n",
       "    .dataframe thead th {\n",
       "        text-align: right;\n",
       "    }\n",
       "</style>\n",
       "<table border=\"1\" class=\"dataframe\">\n",
       "  <thead>\n",
       "    <tr style=\"text-align: right;\">\n",
       "      <th></th>\n",
       "      <th>id</th>\n",
       "      <th>city</th>\n",
       "      <th>district</th>\n",
       "      <th>front</th>\n",
       "    </tr>\n",
       "  </thead>\n",
       "  <tbody>\n",
       "    <tr>\n",
       "      <th>0</th>\n",
       "      <td>0</td>\n",
       "      <td>جدة</td>\n",
       "      <td>حي الروابي</td>\n",
       "      <td>North-West</td>\n",
       "    </tr>\n",
       "    <tr>\n",
       "      <th>1</th>\n",
       "      <td>1</td>\n",
       "      <td>الدمام</td>\n",
       "      <td>حي الفردوس</td>\n",
       "      <td>South</td>\n",
       "    </tr>\n",
       "    <tr>\n",
       "      <th>2</th>\n",
       "      <td>2</td>\n",
       "      <td>ابها</td>\n",
       "      <td>حي القريقر</td>\n",
       "      <td>ُEast</td>\n",
       "    </tr>\n",
       "    <tr>\n",
       "      <th>3</th>\n",
       "      <td>3</td>\n",
       "      <td>الدمام</td>\n",
       "      <td>حي النور</td>\n",
       "      <td>South-West</td>\n",
       "    </tr>\n",
       "    <tr>\n",
       "      <th>4</th>\n",
       "      <td>4</td>\n",
       "      <td>الدمام</td>\n",
       "      <td>حي النور</td>\n",
       "      <td>North-West</td>\n",
       "    </tr>\n",
       "    <tr>\n",
       "      <th>...</th>\n",
       "      <td>...</td>\n",
       "      <td>...</td>\n",
       "      <td>...</td>\n",
       "      <td>...</td>\n",
       "    </tr>\n",
       "    <tr>\n",
       "      <th>19966</th>\n",
       "      <td>19966</td>\n",
       "      <td>الرياض</td>\n",
       "      <td>حي اليرموك</td>\n",
       "      <td>West</td>\n",
       "    </tr>\n",
       "    <tr>\n",
       "      <th>19967</th>\n",
       "      <td>19967</td>\n",
       "      <td>جدة</td>\n",
       "      <td>حي المروة</td>\n",
       "      <td>North-East</td>\n",
       "    </tr>\n",
       "    <tr>\n",
       "      <th>19968</th>\n",
       "      <td>19968</td>\n",
       "      <td>جدة</td>\n",
       "      <td>حي المروة</td>\n",
       "      <td>West</td>\n",
       "    </tr>\n",
       "    <tr>\n",
       "      <th>19969</th>\n",
       "      <td>19969</td>\n",
       "      <td>جدة</td>\n",
       "      <td>حي الفيصلية</td>\n",
       "      <td>North</td>\n",
       "    </tr>\n",
       "    <tr>\n",
       "      <th>19970</th>\n",
       "      <td>19970</td>\n",
       "      <td>الظهران</td>\n",
       "      <td>حي هجر</td>\n",
       "      <td>West</td>\n",
       "    </tr>\n",
       "  </tbody>\n",
       "</table>\n",
       "<p>19956 rows × 4 columns</p>\n",
       "</div>"
      ],
      "text/plain": [
       "          id     city     district       front\n",
       "0          0      جدة   حي الروابي  North-West\n",
       "1          1   الدمام   حي الفردوس       South\n",
       "2          2     ابها   حي القريقر       ُEast\n",
       "3          3   الدمام     حي النور  South-West\n",
       "4          4   الدمام     حي النور  North-West\n",
       "...      ...      ...          ...         ...\n",
       "19966  19966   الرياض   حي اليرموك        West\n",
       "19967  19967      جدة    حي المروة  North-East\n",
       "19968  19968      جدة    حي المروة        West\n",
       "19969  19969      جدة  حي الفيصلية       North\n",
       "19970  19970  الظهران       حي هجر        West\n",
       "\n",
       "[19956 rows x 4 columns]"
      ]
     },
     "execution_count": 18,
     "metadata": {},
     "output_type": "execute_result"
    }
   ],
   "source": [
    "df_categorical = df[['id', 'city', 'district', 'front']]\n",
    "df_categorical"
   ]
  },
  {
   "cell_type": "code",
   "execution_count": 19,
   "metadata": {},
   "outputs": [
    {
     "data": {
      "text/html": [
       "<div>\n",
       "<style scoped>\n",
       "    .dataframe tbody tr th:only-of-type {\n",
       "        vertical-align: middle;\n",
       "    }\n",
       "\n",
       "    .dataframe tbody tr th {\n",
       "        vertical-align: top;\n",
       "    }\n",
       "\n",
       "    .dataframe thead th {\n",
       "        text-align: right;\n",
       "    }\n",
       "</style>\n",
       "<table border=\"1\" class=\"dataframe\">\n",
       "  <thead>\n",
       "    <tr style=\"text-align: right;\">\n",
       "      <th></th>\n",
       "      <th>id</th>\n",
       "      <th>rooms</th>\n",
       "      <th>living_rooms</th>\n",
       "      <th>bath_rooms</th>\n",
       "      <th>street_width</th>\n",
       "      <th>level</th>\n",
       "      <th>age</th>\n",
       "      <th>kitchen</th>\n",
       "      <th>garage</th>\n",
       "      <th>elevator</th>\n",
       "      <th>area</th>\n",
       "      <th>dimension_1</th>\n",
       "      <th>dimension_2</th>\n",
       "      <th>price</th>\n",
       "    </tr>\n",
       "  </thead>\n",
       "  <tbody>\n",
       "    <tr>\n",
       "      <th>0</th>\n",
       "      <td>0</td>\n",
       "      <td>4</td>\n",
       "      <td>NaN</td>\n",
       "      <td>3</td>\n",
       "      <td>15</td>\n",
       "      <td>4</td>\n",
       "      <td>8</td>\n",
       "      <td>1</td>\n",
       "      <td>1</td>\n",
       "      <td>1</td>\n",
       "      <td>103</td>\n",
       "      <td>10.148892</td>\n",
       "      <td>10.148892</td>\n",
       "      <td>420000</td>\n",
       "    </tr>\n",
       "    <tr>\n",
       "      <th>1</th>\n",
       "      <td>1</td>\n",
       "      <td>3</td>\n",
       "      <td>2.0</td>\n",
       "      <td>3</td>\n",
       "      <td>5</td>\n",
       "      <td>1</td>\n",
       "      <td>0</td>\n",
       "      <td>1</td>\n",
       "      <td>1</td>\n",
       "      <td>1</td>\n",
       "      <td>144</td>\n",
       "      <td>12.000000</td>\n",
       "      <td>12.000000</td>\n",
       "      <td>610000</td>\n",
       "    </tr>\n",
       "    <tr>\n",
       "      <th>2</th>\n",
       "      <td>2</td>\n",
       "      <td>2</td>\n",
       "      <td>1.0</td>\n",
       "      <td>2</td>\n",
       "      <td>20</td>\n",
       "      <td>2</td>\n",
       "      <td>0</td>\n",
       "      <td>1</td>\n",
       "      <td>0</td>\n",
       "      <td>1</td>\n",
       "      <td>340</td>\n",
       "      <td>18.439089</td>\n",
       "      <td>18.439089</td>\n",
       "      <td>960000</td>\n",
       "    </tr>\n",
       "    <tr>\n",
       "      <th>3</th>\n",
       "      <td>3</td>\n",
       "      <td>5</td>\n",
       "      <td>1.0</td>\n",
       "      <td>3</td>\n",
       "      <td>40</td>\n",
       "      <td>NaN</td>\n",
       "      <td>0</td>\n",
       "      <td>0</td>\n",
       "      <td>1</td>\n",
       "      <td>1</td>\n",
       "      <td>182</td>\n",
       "      <td>13.490738</td>\n",
       "      <td>13.490738</td>\n",
       "      <td>500000</td>\n",
       "    </tr>\n",
       "    <tr>\n",
       "      <th>4</th>\n",
       "      <td>4</td>\n",
       "      <td>5</td>\n",
       "      <td>1.0</td>\n",
       "      <td>3</td>\n",
       "      <td>30</td>\n",
       "      <td>1</td>\n",
       "      <td>0</td>\n",
       "      <td>1</td>\n",
       "      <td>0</td>\n",
       "      <td>0</td>\n",
       "      <td>197</td>\n",
       "      <td>14.035669</td>\n",
       "      <td>14.035669</td>\n",
       "      <td>580000</td>\n",
       "    </tr>\n",
       "    <tr>\n",
       "      <th>...</th>\n",
       "      <td>...</td>\n",
       "      <td>...</td>\n",
       "      <td>...</td>\n",
       "      <td>...</td>\n",
       "      <td>...</td>\n",
       "      <td>...</td>\n",
       "      <td>...</td>\n",
       "      <td>...</td>\n",
       "      <td>...</td>\n",
       "      <td>...</td>\n",
       "      <td>...</td>\n",
       "      <td>...</td>\n",
       "      <td>...</td>\n",
       "      <td>...</td>\n",
       "    </tr>\n",
       "    <tr>\n",
       "      <th>19966</th>\n",
       "      <td>19966</td>\n",
       "      <td>4</td>\n",
       "      <td>1.0</td>\n",
       "      <td>3</td>\n",
       "      <td>41</td>\n",
       "      <td>2</td>\n",
       "      <td>0</td>\n",
       "      <td>1</td>\n",
       "      <td>0</td>\n",
       "      <td>1</td>\n",
       "      <td>166</td>\n",
       "      <td>12.884099</td>\n",
       "      <td>12.884099</td>\n",
       "      <td>880000</td>\n",
       "    </tr>\n",
       "    <tr>\n",
       "      <th>19967</th>\n",
       "      <td>19967</td>\n",
       "      <td>5</td>\n",
       "      <td>1.0</td>\n",
       "      <td>4</td>\n",
       "      <td>0</td>\n",
       "      <td>3</td>\n",
       "      <td>0</td>\n",
       "      <td>1</td>\n",
       "      <td>1</td>\n",
       "      <td>1</td>\n",
       "      <td>175</td>\n",
       "      <td>13.228757</td>\n",
       "      <td>13.228757</td>\n",
       "      <td>700000</td>\n",
       "    </tr>\n",
       "    <tr>\n",
       "      <th>19968</th>\n",
       "      <td>19968</td>\n",
       "      <td>4</td>\n",
       "      <td>1.0</td>\n",
       "      <td>4</td>\n",
       "      <td>16</td>\n",
       "      <td>4</td>\n",
       "      <td>0</td>\n",
       "      <td>0</td>\n",
       "      <td>1</td>\n",
       "      <td>1</td>\n",
       "      <td>190</td>\n",
       "      <td>13.784049</td>\n",
       "      <td>13.784049</td>\n",
       "      <td>760000</td>\n",
       "    </tr>\n",
       "    <tr>\n",
       "      <th>19969</th>\n",
       "      <td>19969</td>\n",
       "      <td>4</td>\n",
       "      <td>3.0</td>\n",
       "      <td>3</td>\n",
       "      <td>25</td>\n",
       "      <td>3</td>\n",
       "      <td>0</td>\n",
       "      <td>1</td>\n",
       "      <td>1</td>\n",
       "      <td>1</td>\n",
       "      <td>171</td>\n",
       "      <td>13.076697</td>\n",
       "      <td>13.076697</td>\n",
       "      <td>570000</td>\n",
       "    </tr>\n",
       "    <tr>\n",
       "      <th>19970</th>\n",
       "      <td>19970</td>\n",
       "      <td>4</td>\n",
       "      <td>1.0</td>\n",
       "      <td>3</td>\n",
       "      <td>12</td>\n",
       "      <td>NaN</td>\n",
       "      <td>0</td>\n",
       "      <td>1</td>\n",
       "      <td>1</td>\n",
       "      <td>1</td>\n",
       "      <td>175</td>\n",
       "      <td>13.228757</td>\n",
       "      <td>13.228757</td>\n",
       "      <td>750000</td>\n",
       "    </tr>\n",
       "  </tbody>\n",
       "</table>\n",
       "<p>19956 rows × 14 columns</p>\n",
       "</div>"
      ],
      "text/plain": [
       "          id  rooms  living_rooms  bath_rooms  street_width level age  \\\n",
       "0          0      4           NaN           3            15     4   8   \n",
       "1          1      3           2.0           3             5     1   0   \n",
       "2          2      2           1.0           2            20     2   0   \n",
       "3          3      5           1.0           3            40   NaN   0   \n",
       "4          4      5           1.0           3            30     1   0   \n",
       "...      ...    ...           ...         ...           ...   ...  ..   \n",
       "19966  19966      4           1.0           3            41     2   0   \n",
       "19967  19967      5           1.0           4             0     3   0   \n",
       "19968  19968      4           1.0           4            16     4   0   \n",
       "19969  19969      4           3.0           3            25     3   0   \n",
       "19970  19970      4           1.0           3            12   NaN   0   \n",
       "\n",
       "       kitchen  garage  elevator  area  dimension_1  dimension_2   price  \n",
       "0            1       1         1   103    10.148892    10.148892  420000  \n",
       "1            1       1         1   144    12.000000    12.000000  610000  \n",
       "2            1       0         1   340    18.439089    18.439089  960000  \n",
       "3            0       1         1   182    13.490738    13.490738  500000  \n",
       "4            1       0         0   197    14.035669    14.035669  580000  \n",
       "...        ...     ...       ...   ...          ...          ...     ...  \n",
       "19966        1       0         1   166    12.884099    12.884099  880000  \n",
       "19967        1       1         1   175    13.228757    13.228757  700000  \n",
       "19968        0       1         1   190    13.784049    13.784049  760000  \n",
       "19969        1       1         1   171    13.076697    13.076697  570000  \n",
       "19970        1       1         1   175    13.228757    13.228757  750000  \n",
       "\n",
       "[19956 rows x 14 columns]"
      ]
     },
     "execution_count": 19,
     "metadata": {},
     "output_type": "execute_result"
    }
   ],
   "source": [
    "df_numerical = df[['id', 'rooms', 'living_rooms', 'bath_rooms', 'street_width', 'level', 'age', 'kitchen', 'garage', 'elevator', 'area','dimension_1', 'dimension_2', 'price']]\n",
    "df_numerical"
   ]
  },
  {
   "attachments": {},
   "cell_type": "markdown",
   "metadata": {},
   "source": [
    "### 5.2 Estimat the missing Values"
   ]
  },
  {
   "cell_type": "code",
   "execution_count": 20,
   "metadata": {},
   "outputs": [
    {
     "name": "stderr",
     "output_type": "stream",
     "text": [
      "C:\\Users\\hasoo\\AppData\\Local\\Temp\\ipykernel_12788\\3990333739.py:3: FutureWarning: In a future version, passing float-dtype values and an integer dtype to DataFrame will retain floating dtype if they cannot be cast losslessly (matching Series behavior). To retain the old behavior, use DataFrame(data).astype(dtype)\n",
      "  df_numerical_after_estimator = pd.DataFrame(imp_mean.transform(df_numerical), columns=['id', 'rooms', 'living_rooms', 'bath_rooms', 'street_width', 'level', 'age', 'kitchen', 'garage', 'elevator', 'area','dimension_1', 'dimension_2', 'price'], dtype=np.int64)\n"
     ]
    }
   ],
   "source": [
    "imp_mean = IterativeImputer(estimator=RandomForestRegressor(), random_state=0)\n",
    "imp_mean.fit(df_numerical)\n",
    "df_numerical_after_estimator = pd.DataFrame(imp_mean.transform(df_numerical), columns=['id', 'rooms', 'living_rooms', 'bath_rooms', 'street_width', 'level', 'age', 'kitchen', 'garage', 'elevator', 'area','dimension_1', 'dimension_2', 'price'], dtype=np.int64)"
   ]
  },
  {
   "cell_type": "code",
   "execution_count": 21,
   "metadata": {},
   "outputs": [
    {
     "data": {
      "text/html": [
       "<div>\n",
       "<style scoped>\n",
       "    .dataframe tbody tr th:only-of-type {\n",
       "        vertical-align: middle;\n",
       "    }\n",
       "\n",
       "    .dataframe tbody tr th {\n",
       "        vertical-align: top;\n",
       "    }\n",
       "\n",
       "    .dataframe thead th {\n",
       "        text-align: right;\n",
       "    }\n",
       "</style>\n",
       "<table border=\"1\" class=\"dataframe\">\n",
       "  <thead>\n",
       "    <tr style=\"text-align: right;\">\n",
       "      <th></th>\n",
       "      <th>id</th>\n",
       "      <th>rooms</th>\n",
       "      <th>living_rooms</th>\n",
       "      <th>bath_rooms</th>\n",
       "      <th>street_width</th>\n",
       "      <th>level</th>\n",
       "      <th>age</th>\n",
       "      <th>kitchen</th>\n",
       "      <th>garage</th>\n",
       "      <th>elevator</th>\n",
       "      <th>area</th>\n",
       "      <th>dimension_1</th>\n",
       "      <th>dimension_2</th>\n",
       "      <th>price</th>\n",
       "    </tr>\n",
       "  </thead>\n",
       "  <tbody>\n",
       "    <tr>\n",
       "      <th>0</th>\n",
       "      <td>0</td>\n",
       "      <td>4</td>\n",
       "      <td>1</td>\n",
       "      <td>3</td>\n",
       "      <td>15</td>\n",
       "      <td>4</td>\n",
       "      <td>8</td>\n",
       "      <td>1</td>\n",
       "      <td>1</td>\n",
       "      <td>1</td>\n",
       "      <td>103</td>\n",
       "      <td>10</td>\n",
       "      <td>10</td>\n",
       "      <td>420000</td>\n",
       "    </tr>\n",
       "    <tr>\n",
       "      <th>1</th>\n",
       "      <td>1</td>\n",
       "      <td>3</td>\n",
       "      <td>2</td>\n",
       "      <td>3</td>\n",
       "      <td>5</td>\n",
       "      <td>1</td>\n",
       "      <td>0</td>\n",
       "      <td>1</td>\n",
       "      <td>1</td>\n",
       "      <td>1</td>\n",
       "      <td>144</td>\n",
       "      <td>12</td>\n",
       "      <td>12</td>\n",
       "      <td>610000</td>\n",
       "    </tr>\n",
       "    <tr>\n",
       "      <th>2</th>\n",
       "      <td>2</td>\n",
       "      <td>2</td>\n",
       "      <td>1</td>\n",
       "      <td>2</td>\n",
       "      <td>20</td>\n",
       "      <td>2</td>\n",
       "      <td>0</td>\n",
       "      <td>1</td>\n",
       "      <td>0</td>\n",
       "      <td>1</td>\n",
       "      <td>340</td>\n",
       "      <td>18</td>\n",
       "      <td>18</td>\n",
       "      <td>960000</td>\n",
       "    </tr>\n",
       "    <tr>\n",
       "      <th>3</th>\n",
       "      <td>3</td>\n",
       "      <td>5</td>\n",
       "      <td>1</td>\n",
       "      <td>3</td>\n",
       "      <td>40</td>\n",
       "      <td>2</td>\n",
       "      <td>0</td>\n",
       "      <td>0</td>\n",
       "      <td>1</td>\n",
       "      <td>1</td>\n",
       "      <td>182</td>\n",
       "      <td>13</td>\n",
       "      <td>13</td>\n",
       "      <td>500000</td>\n",
       "    </tr>\n",
       "    <tr>\n",
       "      <th>4</th>\n",
       "      <td>4</td>\n",
       "      <td>5</td>\n",
       "      <td>1</td>\n",
       "      <td>3</td>\n",
       "      <td>30</td>\n",
       "      <td>1</td>\n",
       "      <td>0</td>\n",
       "      <td>1</td>\n",
       "      <td>0</td>\n",
       "      <td>0</td>\n",
       "      <td>197</td>\n",
       "      <td>14</td>\n",
       "      <td>14</td>\n",
       "      <td>580000</td>\n",
       "    </tr>\n",
       "  </tbody>\n",
       "</table>\n",
       "</div>"
      ],
      "text/plain": [
       "   id  rooms  living_rooms  bath_rooms  street_width  level  age  kitchen  \\\n",
       "0   0      4             1           3            15      4    8        1   \n",
       "1   1      3             2           3             5      1    0        1   \n",
       "2   2      2             1           2            20      2    0        1   \n",
       "3   3      5             1           3            40      2    0        0   \n",
       "4   4      5             1           3            30      1    0        1   \n",
       "\n",
       "   garage  elevator  area  dimension_1  dimension_2   price  \n",
       "0       1         1   103           10           10  420000  \n",
       "1       1         1   144           12           12  610000  \n",
       "2       0         1   340           18           18  960000  \n",
       "3       1         1   182           13           13  500000  \n",
       "4       0         0   197           14           14  580000  "
      ]
     },
     "execution_count": 21,
     "metadata": {},
     "output_type": "execute_result"
    }
   ],
   "source": [
    "df_numerical_after_estimator.head()"
   ]
  },
  {
   "attachments": {},
   "cell_type": "markdown",
   "metadata": {},
   "source": [
    "### 5.3 merge the data"
   ]
  },
  {
   "cell_type": "code",
   "execution_count": 22,
   "metadata": {},
   "outputs": [],
   "source": [
    "df = pd.merge(df_categorical, df_numerical_after_estimator, how='left', left_on=['id'], right_on=['id'])\n",
    "df.drop('id', axis=1, inplace=True)"
   ]
  },
  {
   "cell_type": "code",
   "execution_count": 23,
   "metadata": {},
   "outputs": [
    {
     "data": {
      "text/html": [
       "<div>\n",
       "<style scoped>\n",
       "    .dataframe tbody tr th:only-of-type {\n",
       "        vertical-align: middle;\n",
       "    }\n",
       "\n",
       "    .dataframe tbody tr th {\n",
       "        vertical-align: top;\n",
       "    }\n",
       "\n",
       "    .dataframe thead th {\n",
       "        text-align: right;\n",
       "    }\n",
       "</style>\n",
       "<table border=\"1\" class=\"dataframe\">\n",
       "  <thead>\n",
       "    <tr style=\"text-align: right;\">\n",
       "      <th></th>\n",
       "      <th>city</th>\n",
       "      <th>district</th>\n",
       "      <th>front</th>\n",
       "      <th>rooms</th>\n",
       "      <th>living_rooms</th>\n",
       "      <th>bath_rooms</th>\n",
       "      <th>street_width</th>\n",
       "      <th>level</th>\n",
       "      <th>age</th>\n",
       "      <th>kitchen</th>\n",
       "      <th>garage</th>\n",
       "      <th>elevator</th>\n",
       "      <th>area</th>\n",
       "      <th>dimension_1</th>\n",
       "      <th>dimension_2</th>\n",
       "      <th>price</th>\n",
       "    </tr>\n",
       "  </thead>\n",
       "  <tbody>\n",
       "    <tr>\n",
       "      <th>0</th>\n",
       "      <td>جدة</td>\n",
       "      <td>حي الروابي</td>\n",
       "      <td>North-West</td>\n",
       "      <td>4</td>\n",
       "      <td>1</td>\n",
       "      <td>3</td>\n",
       "      <td>15</td>\n",
       "      <td>4</td>\n",
       "      <td>8</td>\n",
       "      <td>1</td>\n",
       "      <td>1</td>\n",
       "      <td>1</td>\n",
       "      <td>103</td>\n",
       "      <td>10</td>\n",
       "      <td>10</td>\n",
       "      <td>420000</td>\n",
       "    </tr>\n",
       "    <tr>\n",
       "      <th>1</th>\n",
       "      <td>الدمام</td>\n",
       "      <td>حي الفردوس</td>\n",
       "      <td>South</td>\n",
       "      <td>3</td>\n",
       "      <td>2</td>\n",
       "      <td>3</td>\n",
       "      <td>5</td>\n",
       "      <td>1</td>\n",
       "      <td>0</td>\n",
       "      <td>1</td>\n",
       "      <td>1</td>\n",
       "      <td>1</td>\n",
       "      <td>144</td>\n",
       "      <td>12</td>\n",
       "      <td>12</td>\n",
       "      <td>610000</td>\n",
       "    </tr>\n",
       "    <tr>\n",
       "      <th>2</th>\n",
       "      <td>ابها</td>\n",
       "      <td>حي القريقر</td>\n",
       "      <td>ُEast</td>\n",
       "      <td>2</td>\n",
       "      <td>1</td>\n",
       "      <td>2</td>\n",
       "      <td>20</td>\n",
       "      <td>2</td>\n",
       "      <td>0</td>\n",
       "      <td>1</td>\n",
       "      <td>0</td>\n",
       "      <td>1</td>\n",
       "      <td>340</td>\n",
       "      <td>18</td>\n",
       "      <td>18</td>\n",
       "      <td>960000</td>\n",
       "    </tr>\n",
       "    <tr>\n",
       "      <th>3</th>\n",
       "      <td>الدمام</td>\n",
       "      <td>حي النور</td>\n",
       "      <td>South-West</td>\n",
       "      <td>5</td>\n",
       "      <td>1</td>\n",
       "      <td>3</td>\n",
       "      <td>40</td>\n",
       "      <td>2</td>\n",
       "      <td>0</td>\n",
       "      <td>0</td>\n",
       "      <td>1</td>\n",
       "      <td>1</td>\n",
       "      <td>182</td>\n",
       "      <td>13</td>\n",
       "      <td>13</td>\n",
       "      <td>500000</td>\n",
       "    </tr>\n",
       "    <tr>\n",
       "      <th>4</th>\n",
       "      <td>الدمام</td>\n",
       "      <td>حي النور</td>\n",
       "      <td>North-West</td>\n",
       "      <td>5</td>\n",
       "      <td>1</td>\n",
       "      <td>3</td>\n",
       "      <td>30</td>\n",
       "      <td>1</td>\n",
       "      <td>0</td>\n",
       "      <td>1</td>\n",
       "      <td>0</td>\n",
       "      <td>0</td>\n",
       "      <td>197</td>\n",
       "      <td>14</td>\n",
       "      <td>14</td>\n",
       "      <td>580000</td>\n",
       "    </tr>\n",
       "  </tbody>\n",
       "</table>\n",
       "</div>"
      ],
      "text/plain": [
       "     city    district       front  rooms  living_rooms  bath_rooms  \\\n",
       "0     جدة  حي الروابي  North-West      4             1           3   \n",
       "1  الدمام  حي الفردوس       South      3             2           3   \n",
       "2    ابها  حي القريقر       ُEast      2             1           2   \n",
       "3  الدمام    حي النور  South-West      5             1           3   \n",
       "4  الدمام    حي النور  North-West      5             1           3   \n",
       "\n",
       "   street_width  level  age  kitchen  garage  elevator  area  dimension_1  \\\n",
       "0            15      4    8        1       1         1   103           10   \n",
       "1             5      1    0        1       1         1   144           12   \n",
       "2            20      2    0        1       0         1   340           18   \n",
       "3            40      2    0        0       1         1   182           13   \n",
       "4            30      1    0        1       0         0   197           14   \n",
       "\n",
       "   dimension_2   price  \n",
       "0           10  420000  \n",
       "1           12  610000  \n",
       "2           18  960000  \n",
       "3           13  500000  \n",
       "4           14  580000  "
      ]
     },
     "execution_count": 23,
     "metadata": {},
     "output_type": "execute_result"
    }
   ],
   "source": [
    "df.head()"
   ]
  },
  {
   "cell_type": "code",
   "execution_count": 24,
   "metadata": {},
   "outputs": [
    {
     "data": {
      "text/plain": [
       "<AxesSubplot: >"
      ]
     },
     "execution_count": 24,
     "metadata": {},
     "output_type": "execute_result"
    },
    {
     "data": {
      "image/png": "[encoded data removed]",
      "text/plain": [
       "<Figure size 2500x1000 with 2 Axes>"
      ]
     },
     "metadata": {},
     "output_type": "display_data"
    }
   ],
   "source": [
    "msno.matrix(df)"
   ]
  },
  {
   "attachments": {},
   "cell_type": "markdown",
   "metadata": {},
   "source": [
    "### 6. Encode the `categorical` data"
   ]
  },
  {
   "cell_type": "code",
   "execution_count": 25,
   "metadata": {},
   "outputs": [],
   "source": [
    "# Create a label encoder object\n",
    "le = LabelEncoder()\n",
    "\n",
    "# , 'district', 'front'\n",
    "# Select the object column you want to encode\n",
    "object_column = df['city']\n",
    "\n",
    "# Fit the label encoder to the object column\n",
    "le.fit(object_column)\n",
    "\n",
    "# Transform the object column using the label encoder\n",
    "df['city'] = le.transform(object_column)"
   ]
  },
  {
   "cell_type": "code",
   "execution_count": 26,
   "metadata": {},
   "outputs": [],
   "source": [
    "le = LabelEncoder()\n",
    "object_column = df['district']\n",
    "le.fit(object_column)\n",
    "df['district'] = le.transform(object_column)"
   ]
  },
  {
   "cell_type": "code",
   "execution_count": 27,
   "metadata": {},
   "outputs": [],
   "source": [
    "le = LabelEncoder()\n",
    "object_column = df['front']\n",
    "le.fit(object_column)\n",
    "df['front'] = le.transform(object_column)"
   ]
  },
  {
   "cell_type": "code",
   "execution_count": 28,
   "metadata": {},
   "outputs": [
    {
     "data": {
      "text/html": [
       "<div>\n",
       "<style scoped>\n",
       "    .dataframe tbody tr th:only-of-type {\n",
       "        vertical-align: middle;\n",
       "    }\n",
       "\n",
       "    .dataframe tbody tr th {\n",
       "        vertical-align: top;\n",
       "    }\n",
       "\n",
       "    .dataframe thead th {\n",
       "        text-align: right;\n",
       "    }\n",
       "</style>\n",
       "<table border=\"1\" class=\"dataframe\">\n",
       "  <thead>\n",
       "    <tr style=\"text-align: right;\">\n",
       "      <th></th>\n",
       "      <th>city</th>\n",
       "      <th>district</th>\n",
       "      <th>front</th>\n",
       "      <th>rooms</th>\n",
       "      <th>living_rooms</th>\n",
       "      <th>bath_rooms</th>\n",
       "      <th>street_width</th>\n",
       "      <th>level</th>\n",
       "      <th>age</th>\n",
       "      <th>kitchen</th>\n",
       "      <th>garage</th>\n",
       "      <th>elevator</th>\n",
       "      <th>area</th>\n",
       "      <th>dimension_1</th>\n",
       "      <th>dimension_2</th>\n",
       "      <th>price</th>\n",
       "    </tr>\n",
       "  </thead>\n",
       "  <tbody>\n",
       "    <tr>\n",
       "      <th>0</th>\n",
       "      <td>25</td>\n",
       "      <td>93</td>\n",
       "      <td>3</td>\n",
       "      <td>4</td>\n",
       "      <td>1</td>\n",
       "      <td>3</td>\n",
       "      <td>15</td>\n",
       "      <td>4</td>\n",
       "      <td>8</td>\n",
       "      <td>1</td>\n",
       "      <td>1</td>\n",
       "      <td>1</td>\n",
       "      <td>103</td>\n",
       "      <td>10</td>\n",
       "      <td>10</td>\n",
       "      <td>420000</td>\n",
       "    </tr>\n",
       "    <tr>\n",
       "      <th>1</th>\n",
       "      <td>9</td>\n",
       "      <td>169</td>\n",
       "      <td>4</td>\n",
       "      <td>3</td>\n",
       "      <td>2</td>\n",
       "      <td>3</td>\n",
       "      <td>5</td>\n",
       "      <td>1</td>\n",
       "      <td>0</td>\n",
       "      <td>1</td>\n",
       "      <td>1</td>\n",
       "      <td>1</td>\n",
       "      <td>144</td>\n",
       "      <td>12</td>\n",
       "      <td>12</td>\n",
       "      <td>610000</td>\n",
       "    </tr>\n",
       "    <tr>\n",
       "      <th>2</th>\n",
       "      <td>0</td>\n",
       "      <td>180</td>\n",
       "      <td>9</td>\n",
       "      <td>2</td>\n",
       "      <td>1</td>\n",
       "      <td>2</td>\n",
       "      <td>20</td>\n",
       "      <td>2</td>\n",
       "      <td>0</td>\n",
       "      <td>1</td>\n",
       "      <td>0</td>\n",
       "      <td>1</td>\n",
       "      <td>340</td>\n",
       "      <td>18</td>\n",
       "      <td>18</td>\n",
       "      <td>960000</td>\n",
       "    </tr>\n",
       "    <tr>\n",
       "      <th>3</th>\n",
       "      <td>9</td>\n",
       "      <td>240</td>\n",
       "      <td>6</td>\n",
       "      <td>5</td>\n",
       "      <td>1</td>\n",
       "      <td>3</td>\n",
       "      <td>40</td>\n",
       "      <td>2</td>\n",
       "      <td>0</td>\n",
       "      <td>0</td>\n",
       "      <td>1</td>\n",
       "      <td>1</td>\n",
       "      <td>182</td>\n",
       "      <td>13</td>\n",
       "      <td>13</td>\n",
       "      <td>500000</td>\n",
       "    </tr>\n",
       "    <tr>\n",
       "      <th>4</th>\n",
       "      <td>9</td>\n",
       "      <td>240</td>\n",
       "      <td>3</td>\n",
       "      <td>5</td>\n",
       "      <td>1</td>\n",
       "      <td>3</td>\n",
       "      <td>30</td>\n",
       "      <td>1</td>\n",
       "      <td>0</td>\n",
       "      <td>1</td>\n",
       "      <td>0</td>\n",
       "      <td>0</td>\n",
       "      <td>197</td>\n",
       "      <td>14</td>\n",
       "      <td>14</td>\n",
       "      <td>580000</td>\n",
       "    </tr>\n",
       "  </tbody>\n",
       "</table>\n",
       "</div>"
      ],
      "text/plain": [
       "   city  district  front  rooms  living_rooms  bath_rooms  street_width  \\\n",
       "0    25        93      3      4             1           3            15   \n",
       "1     9       169      4      3             2           3             5   \n",
       "2     0       180      9      2             1           2            20   \n",
       "3     9       240      6      5             1           3            40   \n",
       "4     9       240      3      5             1           3            30   \n",
       "\n",
       "   level  age  kitchen  garage  elevator  area  dimension_1  dimension_2  \\\n",
       "0      4    8        1       1         1   103           10           10   \n",
       "1      1    0        1       1         1   144           12           12   \n",
       "2      2    0        1       0         1   340           18           18   \n",
       "3      2    0        0       1         1   182           13           13   \n",
       "4      1    0        1       0         0   197           14           14   \n",
       "\n",
       "    price  \n",
       "0  420000  \n",
       "1  610000  \n",
       "2  960000  \n",
       "3  500000  \n",
       "4  580000  "
      ]
     },
     "execution_count": 28,
     "metadata": {},
     "output_type": "execute_result"
    }
   ],
   "source": [
    "df.head()"
   ]
  },
  {
   "attachments": {},
   "cell_type": "markdown",
   "metadata": {},
   "source": [
    "## 7. Removing Outliers\n",
    "\n",
    "Outliers are data points that exist far away from the majority of your data. This can happen due to several reasons, such as incorrect data recording to genuine rare occurrences. Either way you will often want to remove these values as they can negatively impact your models. An example of the negative effect can be seen here where an outlier is causing almost all of the scaled data to be squashed to the lower bound."
   ]
  },
  {
   "attachments": {},
   "cell_type": "markdown",
   "metadata": {},
   "source": [
    "### 7.1 Target Variable \"price\" Visualization with Outliers boundaries using Standrad Deviation"
   ]
  },
  {
   "cell_type": "code",
   "execution_count": 41,
   "metadata": {},
   "outputs": [
    {
     "name": "stderr",
     "output_type": "stream",
     "text": [
      "C:\\Users\\hasoo\\AppData\\Local\\Temp\\ipykernel_12788\\271752530.py:19: UserWarning: FixedFormatter should only be used together with FixedLocator\n",
      "  ax.set_xticklabels(xlabels)\n"
     ]
    },
    {
     "data": {
      "image/png": "[encoded data removed]",
      "text/plain": [
       "<Figure size 2400x600 with 1 Axes>"
      ]
     },
     "metadata": {},
     "output_type": "display_data"
    }
   ],
   "source": [
    "# Calculate the mean and standard deviation of the \"price\" variable\n",
    "mean = df['price'].mean()\n",
    "std = df['price'].std()\n",
    "\n",
    "# Set the lower and upper bounds for outliers based on standard deviation\n",
    "lower_bound = mean - 3 * std\n",
    "upper_bound = mean + 1.2 * std\n",
    "\n",
    "# Select the rows that contain outliers in the \"price\" column\n",
    "outliers_df = df.loc[(df['price'] < lower_bound) | (df['price'] > upper_bound)]\n",
    "\n",
    "# Making a histogram of the price variable and adding Standard deviation based detection\"\n",
    "f, ax = plt.subplots(figsize = (24,6))\n",
    "ax = sns.histplot(x= df['price'], kde= True)\n",
    "ax.axvline(upper_bound, color='red', ls='-', alpha=0.4, lw=10)\n",
    "ax.axvline(lower_bound, color='indigo', ls='-', alpha=0.4, lw=10)\n",
    "ax.set_title('House Prices in Saudi Arabia Standard deviation based detection', fontsize=15)\n",
    "xlabels = ['{:,.0f}'.format(x) + 'K' for x in ax.get_xticks()/100]\n",
    "ax.set_xticklabels(xlabels)\n",
    "plt.grid(True)"
   ]
  },
  {
   "attachments": {},
   "cell_type": "markdown",
   "metadata": {},
   "source": [
    "## 8. save the new csv file "
   ]
  },
  {
   "cell_type": "code",
   "execution_count": 33,
   "metadata": {},
   "outputs": [],
   "source": [
    "df.to_csv(r\"../../DataSet/aqar_processed_19971.csv\", index=False)"
   ]
  },
  {
   "cell_type": "code",
   "execution_count": 42,
   "metadata": {},
   "outputs": [],
   "source": [
    "outliers_df.to_csv(r\"../../DataSet/outliers.csv\", index=False)"
   ]
  }
 ],
 "metadata": {
  "kernelspec": {
   "display_name": "stenv",
   "language": "python",
   "name": "python3"
  },
  "language_info": {
   "codemirror_mode": {
    "name": "ipython",
    "version": 3
   },
   "file_extension": ".py",
   "mimetype": "text/x-python",
   "name": "python",
   "nbconvert_exporter": "python",
   "pygments_lexer": "ipython3",
   "version": "3.10.6 | packaged by conda-forge | (main, Oct  7 2022, 20:14:50) [MSC v.1916 64 bit (AMD64)]"
  },
  "orig_nbformat": 4,
  "vscode": {
   "interpreter": {
    "hash": "5d22d69fdd9f218a81a799e6e476322a1716a19a6295e15ae446d988669b5a05"
   }
  }
 },
 "nbformat": 4,
 "nbformat_minor": 2
}
